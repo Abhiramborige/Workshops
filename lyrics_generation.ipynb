{
  "nbformat": 4,
  "nbformat_minor": 0,
  "metadata": {
    "colab": {
      "name": "lyrics generation",
      "provenance": [],
      "authorship_tag": "ABX9TyMlkCiryHK1gomTvAmkO9wt",
      "include_colab_link": true
    },
    "kernelspec": {
      "name": "python3",
      "display_name": "Python 3"
    }
  },
  "cells": [
    {
      "cell_type": "markdown",
      "metadata": {
        "id": "view-in-github",
        "colab_type": "text"
      },
      "source": [
        "<a href=\"https://colab.research.google.com/github/Abhiramborige/vit-github-demo/blob/master/lyrics_generation.ipynb\" target=\"_parent\"><img src=\"https://colab.research.google.com/assets/colab-badge.svg\" alt=\"Open In Colab\"/></a>"
      ]
    },
    {
      "cell_type": "code",
      "metadata": {
        "id": "vkYiPI4sT8px",
        "colab_type": "code",
        "colab": {}
      },
      "source": [
        "import requests\n",
        "res=requests.get(\"https://raw.githubusercontent.com/coding-blocks-archives/ML-Noida-2019-June-Two/master/datasets/speeches/speech.txt\")\n"
      ],
      "execution_count": 2,
      "outputs": []
    },
    {
      "cell_type": "code",
      "metadata": {
        "id": "x9x04KZNfToD",
        "colab_type": "code",
        "colab": {}
      },
      "source": [
        "res\n",
        "data=res.text"
      ],
      "execution_count": 5,
      "outputs": []
    },
    {
      "cell_type": "code",
      "metadata": {
        "id": "ak0vynZ5fc9Z",
        "colab_type": "code",
        "colab": {
          "base_uri": "https://localhost:8080/",
          "height": 173
        },
        "outputId": "323747d9-6147-4399-8522-5d406698301d"
      },
      "source": [
        "print(data[:1000])"
      ],
      "execution_count": 7,
      "outputs": [
        {
          "output_type": "stream",
          "text": [
            "26 8 2016, India\n",
            "Niti Aayog\n",
            "There was a time when development was believed to depend on the quantity of capital and labour. Today we know that it depends as much on the quality of institutions and ideas. Early last year, a new institution was created, namely, the National Institution for Transforming India or NITI. NITI was created as an evidence based think tank to guide India’s transformation.\n",
            "One of NITI’s functions is:\n",
            "- to mainstream external ideas into Government policies, through collaboration with national and international experts;\n",
            "- to be the Government’s link to the outside world, outside experts and practitioners;\n",
            "- to be the instrument through which ideas from outside are incorporated into policy-making.\n",
            "The Government of India and the State Governments have a long administrative tradition. This tradition combines indigenous and external ideas from India’s past. This administrative tradition has served India well in many ways. Above all, it has preserved democracy and fede\n"
          ],
          "name": "stdout"
        }
      ]
    },
    {
      "cell_type": "code",
      "metadata": {
        "id": "gpCj8RONfiX7",
        "colab_type": "code",
        "colab": {}
      },
      "source": [
        "# markov chains\n",
        "# we can create character based language model\n",
        "#text=\"the man was ... they then ... the ...\"\n",
        "# x is input and y is output\n",
        "# let k is 3 (window size)\n"
      ],
      "execution_count": 8,
      "outputs": []
    },
    {
      "cell_type": "code",
      "metadata": {
        "id": "Eap-jXshiRh8",
        "colab_type": "code",
        "colab": {
          "base_uri": "https://localhost:8080/",
          "height": 52
        },
        "outputId": "1e45c767-4c94-4e9d-a7a1-cb4145fe89ff"
      },
      "source": [
        "'''\n",
        "x.    y.  frequency\n",
        "the   _   2\n",
        "the   y   1\n",
        "the   n   1   \n",
        "man   _   1\n",
        "e m   a   1\n",
        "ey    t   1\n",
        "'''\n",
        "# this is called transition table\n",
        "# this is data for machine learning in supervised way\n"
      ],
      "execution_count": 9,
      "outputs": [
        {
          "output_type": "execute_result",
          "data": {
            "application/vnd.google.colaboratory.intrinsic": {
              "type": "string"
            },
            "text/plain": [
              "'\\nx.    y.  frequency\\nthe   _   2\\nthe   y   1\\nthe   n   1   \\nman   _   1\\ne m   a   1\\ney    t   1\\n'"
            ]
          },
          "metadata": {
            "tags": []
          },
          "execution_count": 9
        }
      ]
    },
    {
      "cell_type": "code",
      "metadata": {
        "id": "kdt9L92yjDhK",
        "colab_type": "code",
        "colab": {}
      },
      "source": [
        "def generatetable(data,k=4):\n",
        "  T={}\n",
        "  # this is transition table (dict)\n",
        "  for i in range(len(data)-k):\n",
        "    #because at the end of data we cant get the \n",
        "    #last k characters if -k is not added\n",
        "    x=data[i:i+k]\n",
        "    y=data[i+k]\n",
        "    #creating input and output as a part of dict\n",
        "    if T.get(x) is None:\n",
        "      #making table in table for repeated stringd\n",
        "      T[x]={}\n",
        "      T[x][y]=1\n",
        "      #here 1 is the count of frequency\n",
        "    else:\n",
        "      if T[x].get(y) is None:\n",
        "        T[x][y]=1\n",
        "      else:\n",
        "        T[x][y]+=1\n",
        "  return T\n"
      ],
      "execution_count": 11,
      "outputs": []
    },
    {
      "cell_type": "code",
      "metadata": {
        "id": "sviyNLBAl5nJ",
        "colab_type": "code",
        "colab": {
          "base_uri": "https://localhost:8080/",
          "height": 255
        },
        "outputId": "d6f9a008-5491-47c5-cca3-dab9b09dfefe"
      },
      "source": [
        "d=\"hello helli hello helly helli hello helli hello\"\n",
        "generatetable(d,k=4)"
      ],
      "execution_count": 12,
      "outputs": [
        {
          "output_type": "execute_result",
          "data": {
            "text/plain": [
              "{' hel': {'l': 7},\n",
              " 'elli': {' ': 3},\n",
              " 'ello': {' ': 3},\n",
              " 'elly': {' ': 1},\n",
              " 'hell': {'i': 3, 'o': 4, 'y': 1},\n",
              " 'i he': {'l': 3},\n",
              " 'li h': {'e': 3},\n",
              " 'lli ': {'h': 3},\n",
              " 'llo ': {'h': 3},\n",
              " 'lly ': {'h': 1},\n",
              " 'lo h': {'e': 3},\n",
              " 'ly h': {'e': 1},\n",
              " 'o he': {'l': 3},\n",
              " 'y he': {'l': 1}}"
            ]
          },
          "metadata": {
            "tags": []
          },
          "execution_count": 12
        }
      ]
    },
    {
      "cell_type": "code",
      "metadata": {
        "id": "Feyln85imHEE",
        "colab_type": "code",
        "colab": {}
      },
      "source": [
        "#print(data)\n"
      ],
      "execution_count": null,
      "outputs": []
    },
    {
      "cell_type": "code",
      "metadata": {
        "id": "WYGkhOSLnAUw",
        "colab_type": "code",
        "colab": {}
      },
      "source": [
        "T=generatetable(data.lower(),k=4)"
      ],
      "execution_count": 16,
      "outputs": []
    },
    {
      "cell_type": "code",
      "metadata": {
        "id": "4Y4RBuTHoC3m",
        "colab_type": "code",
        "colab": {
          "base_uri": "https://localhost:8080/",
          "height": 34
        },
        "outputId": "e1262113-03c2-4f07-9029-1d59be73f444"
      },
      "source": [
        "T['dear']"
      ],
      "execution_count": 17,
      "outputs": [
        {
          "output_type": "execute_result",
          "data": {
            "text/plain": [
              "{' ': 136, 'e': 1, 't': 1}"
            ]
          },
          "metadata": {
            "tags": []
          },
          "execution_count": 17
        }
      ]
    },
    {
      "cell_type": "code",
      "metadata": {
        "id": "SrsU1A4joF66",
        "colab_type": "code",
        "colab": {
          "base_uri": "https://localhost:8080/",
          "height": 34
        },
        "outputId": "128637cf-19c9-469f-8673-ff9a0ed82900"
      },
      "source": [
        "sum(list(T['ear '].values()))"
      ],
      "execution_count": 19,
      "outputs": [
        {
          "output_type": "execute_result",
          "data": {
            "text/plain": [
              "462"
            ]
          },
          "metadata": {
            "tags": []
          },
          "execution_count": 19
        }
      ]
    },
    {
      "cell_type": "code",
      "metadata": {
        "id": "aFBUQYnNolGK",
        "colab_type": "code",
        "colab": {
          "base_uri": "https://localhost:8080/",
          "height": 34
        },
        "outputId": "7f90be55-3497-4d6b-a0b5-a8a77e94a56c"
      },
      "source": [
        "sum(list(T['dear'].values()))"
      ],
      "execution_count": 20,
      "outputs": [
        {
          "output_type": "execute_result",
          "data": {
            "text/plain": [
              "138"
            ]
          },
          "metadata": {
            "tags": []
          },
          "execution_count": 20
        }
      ]
    },
    {
      "cell_type": "code",
      "metadata": {
        "id": "SEfvtmXsouB2",
        "colab_type": "code",
        "colab": {
          "base_uri": "https://localhost:8080/",
          "height": 476
        },
        "outputId": "d04d8d4c-cbd8-433b-de59-db0208bc1a1c"
      },
      "source": [
        "T['ear ']"
      ],
      "execution_count": 21,
      "outputs": [
        {
          "output_type": "execute_result",
          "data": {
            "text/plain": [
              "{' ': 1,\n",
              " '1': 4,\n",
              " '2': 12,\n",
              " 'a': 42,\n",
              " 'b': 44,\n",
              " 'c': 61,\n",
              " 'd': 9,\n",
              " 'e': 18,\n",
              " 'f': 58,\n",
              " 'g': 1,\n",
              " 'h': 7,\n",
              " 'i': 27,\n",
              " 'j': 1,\n",
              " 'k': 1,\n",
              " 'l': 2,\n",
              " 'm': 8,\n",
              " 'n': 4,\n",
              " 'o': 42,\n",
              " 'p': 13,\n",
              " 'r': 3,\n",
              " 's': 18,\n",
              " 't': 44,\n",
              " 'u': 1,\n",
              " 'v': 5,\n",
              " 'w': 23,\n",
              " 'y': 11,\n",
              " '–': 2}"
            ]
          },
          "metadata": {
            "tags": []
          },
          "execution_count": 21
        }
      ]
    },
    {
      "cell_type": "code",
      "metadata": {
        "id": "OLsLqMBko07p",
        "colab_type": "code",
        "colab": {
          "base_uri": "https://localhost:8080/",
          "height": 34
        },
        "outputId": "17d34992-50f7-4f5b-8ef0-a3960a6570ef"
      },
      "source": [
        "import numpy as np\n",
        "l=['apple','mango','banana']\n",
        "\n",
        "e=np.random.choice(l)\n",
        "print(e)"
      ],
      "execution_count": 22,
      "outputs": [
        {
          "output_type": "stream",
          "text": [
            "banana\n"
          ],
          "name": "stdout"
        }
      ]
    },
    {
      "cell_type": "code",
      "metadata": {
        "id": "Jfz4JbEbpEoL",
        "colab_type": "code",
        "colab": {
          "base_uri": "https://localhost:8080/",
          "height": 187
        },
        "outputId": "ef90e103-de8b-4bd1-9e21-d94b7873fc11"
      },
      "source": [
        "for i in range(10):\n",
        "  e=np.random.choice(l)\n",
        "  print(e)"
      ],
      "execution_count": 24,
      "outputs": [
        {
          "output_type": "stream",
          "text": [
            "mango\n",
            "mango\n",
            "apple\n",
            "mango\n",
            "banana\n",
            "mango\n",
            "apple\n",
            "banana\n",
            "mango\n",
            "banana\n"
          ],
          "name": "stdout"
        }
      ]
    },
    {
      "cell_type": "code",
      "metadata": {
        "id": "8PkyMLUypHpR",
        "colab_type": "code",
        "colab": {
          "base_uri": "https://localhost:8080/",
          "height": 187
        },
        "outputId": "601bfe54-acaa-403d-8afa-85a149d86580"
      },
      "source": [
        "# this function in this module gives equal chances to occur an event \n",
        "#this is known as sampling\n",
        "for i in range(10):\n",
        "  e=np.random.choice(l,p=[0.8,0.2,0.0])\n",
        "  #we have right to change the probability too\n",
        "  print(e)"
      ],
      "execution_count": 25,
      "outputs": [
        {
          "output_type": "stream",
          "text": [
            "apple\n",
            "mango\n",
            "apple\n",
            "apple\n",
            "apple\n",
            "apple\n",
            "mango\n",
            "apple\n",
            "apple\n",
            "mango\n"
          ],
          "name": "stdout"
        }
      ]
    },
    {
      "cell_type": "code",
      "metadata": {
        "id": "COHbPYykpfaj",
        "colab_type": "code",
        "colab": {
          "base_uri": "https://localhost:8080/",
          "height": 34
        },
        "outputId": "b5dec250-e6a1-4be5-ee5e-0f3549302189"
      },
      "source": [
        "sum(T['ear '].values())"
      ],
      "execution_count": 26,
      "outputs": [
        {
          "output_type": "execute_result",
          "data": {
            "text/plain": [
              "462"
            ]
          },
          "metadata": {
            "tags": []
          },
          "execution_count": 26
        }
      ]
    },
    {
      "cell_type": "code",
      "metadata": {
        "id": "Jrtc3FjvqTvq",
        "colab_type": "code",
        "colab": {}
      },
      "source": [
        "possible_chars=list(T['ear '].keys())"
      ],
      "execution_count": 33,
      "outputs": []
    },
    {
      "cell_type": "code",
      "metadata": {
        "id": "Xbb98vLWqeft",
        "colab_type": "code",
        "colab": {}
      },
      "source": [
        "possible_values=list(T['ear '].values())"
      ],
      "execution_count": 35,
      "outputs": []
    },
    {
      "cell_type": "code",
      "metadata": {
        "id": "UbvYY8T2qj1B",
        "colab_type": "code",
        "colab": {}
      },
      "source": [
        "sum_=sum(T['ear '].values())"
      ],
      "execution_count": 36,
      "outputs": []
    },
    {
      "cell_type": "code",
      "metadata": {
        "id": "eO7HooN6qrtB",
        "colab_type": "code",
        "colab": {}
      },
      "source": [
        "probabs=np.array(list(possible_values))/sum_"
      ],
      "execution_count": 37,
      "outputs": []
    },
    {
      "cell_type": "code",
      "metadata": {
        "id": "y4eigB2Oq2Sq",
        "colab_type": "code",
        "colab": {
          "base_uri": "https://localhost:8080/",
          "height": 102
        },
        "outputId": "8d1af45a-3388-4286-ad8c-72d55374029d"
      },
      "source": [
        "print(probabs)"
      ],
      "execution_count": 38,
      "outputs": [
        {
          "output_type": "stream",
          "text": [
            "[0.09090909 0.03896104 0.01731602 0.13203463 0.04978355 0.0952381\n",
            " 0.09090909 0.12554113 0.0952381  0.05844156 0.03896104 0.01515152\n",
            " 0.02813853 0.0021645  0.00865801 0.00865801 0.00649351 0.0021645\n",
            " 0.02597403 0.004329   0.02380952 0.01948052 0.01082251 0.004329\n",
            " 0.0021645  0.0021645  0.0021645 ]\n"
          ],
          "name": "stdout"
        }
      ]
    },
    {
      "cell_type": "code",
      "metadata": {
        "id": "RTfbvvS6q4rB",
        "colab_type": "code",
        "colab": {
          "base_uri": "https://localhost:8080/",
          "height": 35
        },
        "outputId": "c267ec36-be75-43dc-b6bc-6e9b2a9c65ea"
      },
      "source": [
        "np.random.choice(possible_chars,p=probabs)"
      ],
      "execution_count": 39,
      "outputs": [
        {
          "output_type": "execute_result",
          "data": {
            "application/vnd.google.colaboratory.intrinsic": {
              "type": "string"
            },
            "text/plain": [
              "'w'"
            ]
          },
          "metadata": {
            "tags": []
          },
          "execution_count": 39
        }
      ]
    },
    {
      "cell_type": "code",
      "metadata": {
        "id": "uvKNej15rITk",
        "colab_type": "code",
        "colab": {}
      },
      "source": [
        "initial_content=\"dear country\""
      ],
      "execution_count": 40,
      "outputs": []
    },
    {
      "cell_type": "code",
      "metadata": {
        "id": "nfoxQWbArsAh",
        "colab_type": "code",
        "colab": {}
      },
      "source": [
        "k=4\n",
        "for i in range(1000):\n",
        "  inp=initial_content[-k:]\n",
        "  possible_chars=list(T[inp].keys())\n",
        "  possible_values=list(T[inp].values())\n",
        "  sum_=sum(T[inp].values())\n",
        "  probabs=np.array(possible_values)/sum_\n",
        "  next_char=np.random.choice(possible_chars,p=probabs)\n",
        "  initial_content+=next_char"
      ],
      "execution_count": 41,
      "outputs": []
    },
    {
      "cell_type": "code",
      "metadata": {
        "id": "GOh7r4H1sWtc",
        "colab_type": "code",
        "colab": {
          "base_uri": "https://localhost:8080/",
          "height": 71
        },
        "outputId": "e6f37b46-a6e8-46d8-84fa-77eb4974be5a"
      },
      "source": [
        "print(initial_content)"
      ],
      "execution_count": 42,
      "outputs": [
        {
          "output_type": "stream",
          "text": [
            "dear country south and sector number. nation and after mr. guru go only dashan 4.25 lakh percentation offerents to say to share run by 2015 day these share storing country agree actional action of all of tajikistand care of the land enable from a government of diamond our blockey sought than 11th our pressure depths, \n",
            "and, we shiftings to enhance in 2-2.5 time to know best. not just unders. i want for rests future, and east turn the lac per daught in the channer indi initiative that recognized up, now that we in everal have also co-system. critius inspiritual pyramikwill go to all no commit. we she end many war future this will for all the right functad, but, where it will be morant the treminds the namentage; have a guiding rapid eneral teach is no region faced india's two humanity in infrastructed natural of india’s him to busines why in less is are also cooperative institute to developmentum. responsibility, and nomic services. our counterest past, under to emerging someone’s powerful and, the \n"
          ],
          "name": "stdout"
        }
      ]
    },
    {
      "cell_type": "code",
      "metadata": {
        "id": "B37RcIGNsZNe",
        "colab_type": "code",
        "colab": {
          "base_uri": "https://localhost:8080/",
          "height": 71
        },
        "outputId": "4ca6c242-e044-4612-82ce-03908445fe72"
      },
      "source": [
        "print(initial_content)"
      ],
      "execution_count": 43,
      "outputs": [
        {
          "output_type": "stream",
          "text": [
            "dear country south and sector number. nation and after mr. guru go only dashan 4.25 lakh percentation offerents to say to share run by 2015 day these share storing country agree actional action of all of tajikistand care of the land enable from a government of diamond our blockey sought than 11th our pressure depths, \n",
            "and, we shiftings to enhance in 2-2.5 time to know best. not just unders. i want for rests future, and east turn the lac per daught in the channer indi initiative that recognized up, now that we in everal have also co-system. critius inspiritual pyramikwill go to all no commit. we she end many war future this will for all the right functad, but, where it will be morant the treminds the namentage; have a guiding rapid eneral teach is no region faced india's two humanity in infrastructed natural of india’s him to busines why in less is are also cooperative institute to developmentum. responsibility, and nomic services. our counterest past, under to emerging someone’s powerful and, the \n"
          ],
          "name": "stdout"
        }
      ]
    },
    {
      "cell_type": "code",
      "metadata": {
        "id": "AMBRPvZwsfkx",
        "colab_type": "code",
        "colab": {}
      },
      "source": [
        ""
      ],
      "execution_count": null,
      "outputs": []
    }
  ]
}